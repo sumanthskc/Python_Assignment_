{
 "cells": [
  {
   "cell_type": "code",
   "execution_count": 1,
   "id": "23c58012",
   "metadata": {},
   "outputs": [],
   "source": [
    "import pandas as pd"
   ]
  },
  {
   "cell_type": "code",
   "execution_count": 2,
   "id": "e0933f40",
   "metadata": {},
   "outputs": [],
   "source": [
    "import mysql.connector as connection"
   ]
  },
  {
   "cell_type": "code",
   "execution_count": null,
   "id": "b980636c",
   "metadata": {},
   "outputs": [
    {
     "name": "stdout",
     "output_type": "stream",
     "text": [
      "Connection Successfull\n"
     ]
    }
   ],
   "source": [
    "conn=connection.connect(\n",
    "    host=\"localhost\",\n",
    "    user=\"root\",\n",
    "    password=\"********\",\n",
    "    database=\"Data_manipulation\"\n",
    ")\n",
    "print(\"Connection Successfull\")"
   ]
  },
  {
   "cell_type": "code",
   "execution_count": 6,
   "id": "15ca197c",
   "metadata": {},
   "outputs": [
    {
     "name": "stderr",
     "output_type": "stream",
     "text": [
      "C:\\Users\\Admin\\AppData\\Local\\Temp\\ipykernel_13688\\741149083.py:1: UserWarning: pandas only supports SQLAlchemy connectable (engine/connection) or database string URI or sqlite3 DBAPI2 connection. Other DBAPI2 objects are not tested. Please consider using SQLAlchemy.\n",
      "  df=pd.read_sql(\"SELECT * FROM json\",conn)\n"
     ]
    }
   ],
   "source": [
    "df=pd.read_sql(\"SELECT * FROM json\",conn)"
   ]
  },
  {
   "cell_type": "code",
   "execution_count": 7,
   "id": "d3977dd7",
   "metadata": {},
   "outputs": [
    {
     "data": {
      "text/html": [
       "<div>\n",
       "<style scoped>\n",
       "    .dataframe tbody tr th:only-of-type {\n",
       "        vertical-align: middle;\n",
       "    }\n",
       "\n",
       "    .dataframe tbody tr th {\n",
       "        vertical-align: top;\n",
       "    }\n",
       "\n",
       "    .dataframe thead th {\n",
       "        text-align: right;\n",
       "    }\n",
       "</style>\n",
       "<table border=\"1\" class=\"dataframe\">\n",
       "  <thead>\n",
       "    <tr style=\"text-align: right;\">\n",
       "      <th></th>\n",
       "      <th>id</th>\n",
       "      <th>name</th>\n",
       "      <th>email</th>\n",
       "      <th>postalZip</th>\n",
       "      <th>phone</th>\n",
       "    </tr>\n",
       "  </thead>\n",
       "  <tbody>\n",
       "    <tr>\n",
       "      <th>0</th>\n",
       "      <td>1</td>\n",
       "      <td>Alice</td>\n",
       "      <td>alice123@yahoo.com</td>\n",
       "      <td>560001</td>\n",
       "      <td>(816) 530-4269</td>\n",
       "    </tr>\n",
       "    <tr>\n",
       "      <th>1</th>\n",
       "      <td>2</td>\n",
       "      <td>Bob</td>\n",
       "      <td>bob_smith@outlook.com</td>\n",
       "      <td>560002</td>\n",
       "      <td>1-811-920-9732</td>\n",
       "    </tr>\n",
       "    <tr>\n",
       "      <th>2</th>\n",
       "      <td>3</td>\n",
       "      <td>Charlie</td>\n",
       "      <td>charlie@company.org</td>\n",
       "      <td>56A003</td>\n",
       "      <td>(123) 456-7890</td>\n",
       "    </tr>\n",
       "    <tr>\n",
       "      <th>3</th>\n",
       "      <td>4</td>\n",
       "      <td>David</td>\n",
       "      <td>david.456@random.com</td>\n",
       "      <td>560004</td>\n",
       "      <td>9876543210</td>\n",
       "    </tr>\n",
       "    <tr>\n",
       "      <th>4</th>\n",
       "      <td>5</td>\n",
       "      <td>Eve</td>\n",
       "      <td>eve99@domain.co</td>\n",
       "      <td>560005</td>\n",
       "      <td>(321) 654-0987</td>\n",
       "    </tr>\n",
       "    <tr>\n",
       "      <th>5</th>\n",
       "      <td>1</td>\n",
       "      <td>Alice</td>\n",
       "      <td>alice123@yahoo.com</td>\n",
       "      <td>560001</td>\n",
       "      <td>(816) 530-4269</td>\n",
       "    </tr>\n",
       "    <tr>\n",
       "      <th>6</th>\n",
       "      <td>2</td>\n",
       "      <td>Bob</td>\n",
       "      <td>bob_smith@outlook.com</td>\n",
       "      <td>560002</td>\n",
       "      <td>1-811-920-9732</td>\n",
       "    </tr>\n",
       "    <tr>\n",
       "      <th>7</th>\n",
       "      <td>3</td>\n",
       "      <td>Charlie</td>\n",
       "      <td>charlie@company.org</td>\n",
       "      <td>56A003</td>\n",
       "      <td>(123) 456-7890</td>\n",
       "    </tr>\n",
       "    <tr>\n",
       "      <th>8</th>\n",
       "      <td>4</td>\n",
       "      <td>David</td>\n",
       "      <td>david.456@random.com</td>\n",
       "      <td>560004</td>\n",
       "      <td>9876543210</td>\n",
       "    </tr>\n",
       "    <tr>\n",
       "      <th>9</th>\n",
       "      <td>5</td>\n",
       "      <td>Eve</td>\n",
       "      <td>eve99@domain.co</td>\n",
       "      <td>560005</td>\n",
       "      <td>(321) 654-0987</td>\n",
       "    </tr>\n",
       "  </tbody>\n",
       "</table>\n",
       "</div>"
      ],
      "text/plain": [
       "   id     name                  email postalZip           phone\n",
       "0   1    Alice     alice123@yahoo.com    560001  (816) 530-4269\n",
       "1   2      Bob  bob_smith@outlook.com    560002  1-811-920-9732\n",
       "2   3  Charlie    charlie@company.org    56A003  (123) 456-7890\n",
       "3   4    David   david.456@random.com    560004      9876543210\n",
       "4   5      Eve        eve99@domain.co    560005  (321) 654-0987\n",
       "5   1    Alice     alice123@yahoo.com    560001  (816) 530-4269\n",
       "6   2      Bob  bob_smith@outlook.com    560002  1-811-920-9732\n",
       "7   3  Charlie    charlie@company.org    56A003  (123) 456-7890\n",
       "8   4    David   david.456@random.com    560004      9876543210\n",
       "9   5      Eve        eve99@domain.co    560005  (321) 654-0987"
      ]
     },
     "execution_count": 7,
     "metadata": {},
     "output_type": "execute_result"
    }
   ],
   "source": [
    "df"
   ]
  },
  {
   "cell_type": "code",
   "execution_count": 10,
   "id": "04560caf",
   "metadata": {},
   "outputs": [],
   "source": [
    "df.to_json(\"Info\",index=None,indent=True)"
   ]
  }
 ],
 "metadata": {
  "kernelspec": {
   "display_name": "Python 3",
   "language": "python",
   "name": "python3"
  },
  "language_info": {
   "codemirror_mode": {
    "name": "ipython",
    "version": 3
   },
   "file_extension": ".py",
   "mimetype": "text/x-python",
   "name": "python",
   "nbconvert_exporter": "python",
   "pygments_lexer": "ipython3",
   "version": "3.9.0"
  }
 },
 "nbformat": 4,
 "nbformat_minor": 5
}
