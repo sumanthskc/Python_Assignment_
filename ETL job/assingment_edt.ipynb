{
 "cells": [
  {
   "cell_type": "code",
   "execution_count": 105,
   "id": "8bfa9ecb",
   "metadata": {},
   "outputs": [
    {
     "name": "stdout",
     "output_type": "stream",
     "text": [
      "Hello\n"
     ]
    }
   ],
   "source": [
    "print(\"Hello\")"
   ]
  },
  {
   "cell_type": "code",
   "execution_count": 106,
   "id": "f127d4a7",
   "metadata": {},
   "outputs": [],
   "source": [
    "import pandas as pd\n"
   ]
  },
  {
   "cell_type": "code",
   "execution_count": 107,
   "id": "e0e6cd95",
   "metadata": {},
   "outputs": [],
   "source": [
    "df=pd.read_csv(\"survey_results_public.csv\")"
   ]
  },
  {
   "cell_type": "code",
   "execution_count": 108,
   "id": "c6d94e4a",
   "metadata": {},
   "outputs": [
    {
     "data": {
      "text/html": [
       "<div>\n",
       "<style scoped>\n",
       "    .dataframe tbody tr th:only-of-type {\n",
       "        vertical-align: middle;\n",
       "    }\n",
       "\n",
       "    .dataframe tbody tr th {\n",
       "        vertical-align: top;\n",
       "    }\n",
       "\n",
       "    .dataframe thead th {\n",
       "        text-align: right;\n",
       "    }\n",
       "</style>\n",
       "<table border=\"1\" class=\"dataframe\">\n",
       "  <thead>\n",
       "    <tr style=\"text-align: right;\">\n",
       "      <th></th>\n",
       "      <th>Respondent</th>\n",
       "      <th>MainBranch</th>\n",
       "      <th>Hobbyist</th>\n",
       "      <th>OpenSourcer</th>\n",
       "      <th>OpenSource</th>\n",
       "      <th>Employment</th>\n",
       "      <th>Country</th>\n",
       "      <th>Student</th>\n",
       "      <th>EdLevel</th>\n",
       "      <th>UndergradMajor</th>\n",
       "      <th>...</th>\n",
       "      <th>WelcomeChange</th>\n",
       "      <th>SONewContent</th>\n",
       "      <th>Age</th>\n",
       "      <th>Gender</th>\n",
       "      <th>Trans</th>\n",
       "      <th>Sexuality</th>\n",
       "      <th>Ethnicity</th>\n",
       "      <th>Dependents</th>\n",
       "      <th>SurveyLength</th>\n",
       "      <th>SurveyEase</th>\n",
       "    </tr>\n",
       "  </thead>\n",
       "  <tbody>\n",
       "    <tr>\n",
       "      <th>0</th>\n",
       "      <td>1</td>\n",
       "      <td>I am a student who is learning to code</td>\n",
       "      <td>Yes</td>\n",
       "      <td>Never</td>\n",
       "      <td>The quality of OSS and closed source software ...</td>\n",
       "      <td>Not employed, and not looking for work</td>\n",
       "      <td>United Kingdom</td>\n",
       "      <td>No</td>\n",
       "      <td>Primary/elementary school</td>\n",
       "      <td>NaN</td>\n",
       "      <td>...</td>\n",
       "      <td>Just as welcome now as I felt last year</td>\n",
       "      <td>Tech articles written by other developers;Indu...</td>\n",
       "      <td>14.0</td>\n",
       "      <td>Man</td>\n",
       "      <td>No</td>\n",
       "      <td>Straight / Heterosexual</td>\n",
       "      <td>NaN</td>\n",
       "      <td>No</td>\n",
       "      <td>Appropriate in length</td>\n",
       "      <td>Neither easy nor difficult</td>\n",
       "    </tr>\n",
       "    <tr>\n",
       "      <th>1</th>\n",
       "      <td>2</td>\n",
       "      <td>I am a student who is learning to code</td>\n",
       "      <td>No</td>\n",
       "      <td>Less than once per year</td>\n",
       "      <td>The quality of OSS and closed source software ...</td>\n",
       "      <td>Not employed, but looking for work</td>\n",
       "      <td>Bosnia and Herzegovina</td>\n",
       "      <td>Yes, full-time</td>\n",
       "      <td>Secondary school (e.g. American high school, G...</td>\n",
       "      <td>NaN</td>\n",
       "      <td>...</td>\n",
       "      <td>Just as welcome now as I felt last year</td>\n",
       "      <td>Tech articles written by other developers;Indu...</td>\n",
       "      <td>19.0</td>\n",
       "      <td>Man</td>\n",
       "      <td>No</td>\n",
       "      <td>Straight / Heterosexual</td>\n",
       "      <td>NaN</td>\n",
       "      <td>No</td>\n",
       "      <td>Appropriate in length</td>\n",
       "      <td>Neither easy nor difficult</td>\n",
       "    </tr>\n",
       "    <tr>\n",
       "      <th>2</th>\n",
       "      <td>3</td>\n",
       "      <td>I am not primarily a developer, but I write co...</td>\n",
       "      <td>Yes</td>\n",
       "      <td>Never</td>\n",
       "      <td>The quality of OSS and closed source software ...</td>\n",
       "      <td>Employed full-time</td>\n",
       "      <td>Thailand</td>\n",
       "      <td>No</td>\n",
       "      <td>Bachelor’s degree (BA, BS, B.Eng., etc.)</td>\n",
       "      <td>Web development or web design</td>\n",
       "      <td>...</td>\n",
       "      <td>Just as welcome now as I felt last year</td>\n",
       "      <td>Tech meetups or events in your area;Courses on...</td>\n",
       "      <td>28.0</td>\n",
       "      <td>Man</td>\n",
       "      <td>No</td>\n",
       "      <td>Straight / Heterosexual</td>\n",
       "      <td>NaN</td>\n",
       "      <td>Yes</td>\n",
       "      <td>Appropriate in length</td>\n",
       "      <td>Neither easy nor difficult</td>\n",
       "    </tr>\n",
       "    <tr>\n",
       "      <th>3</th>\n",
       "      <td>4</td>\n",
       "      <td>I am a developer by profession</td>\n",
       "      <td>No</td>\n",
       "      <td>Never</td>\n",
       "      <td>The quality of OSS and closed source software ...</td>\n",
       "      <td>Employed full-time</td>\n",
       "      <td>United States</td>\n",
       "      <td>No</td>\n",
       "      <td>Bachelor’s degree (BA, BS, B.Eng., etc.)</td>\n",
       "      <td>Computer science, computer engineering, or sof...</td>\n",
       "      <td>...</td>\n",
       "      <td>Just as welcome now as I felt last year</td>\n",
       "      <td>Tech articles written by other developers;Indu...</td>\n",
       "      <td>22.0</td>\n",
       "      <td>Man</td>\n",
       "      <td>No</td>\n",
       "      <td>Straight / Heterosexual</td>\n",
       "      <td>White or of European descent</td>\n",
       "      <td>No</td>\n",
       "      <td>Appropriate in length</td>\n",
       "      <td>Easy</td>\n",
       "    </tr>\n",
       "    <tr>\n",
       "      <th>4</th>\n",
       "      <td>5</td>\n",
       "      <td>I am a developer by profession</td>\n",
       "      <td>Yes</td>\n",
       "      <td>Once a month or more often</td>\n",
       "      <td>OSS is, on average, of HIGHER quality than pro...</td>\n",
       "      <td>Employed full-time</td>\n",
       "      <td>Ukraine</td>\n",
       "      <td>No</td>\n",
       "      <td>Bachelor’s degree (BA, BS, B.Eng., etc.)</td>\n",
       "      <td>Computer science, computer engineering, or sof...</td>\n",
       "      <td>...</td>\n",
       "      <td>Just as welcome now as I felt last year</td>\n",
       "      <td>Tech meetups or events in your area;Courses on...</td>\n",
       "      <td>30.0</td>\n",
       "      <td>Man</td>\n",
       "      <td>No</td>\n",
       "      <td>Straight / Heterosexual</td>\n",
       "      <td>White or of European descent;Multiracial</td>\n",
       "      <td>No</td>\n",
       "      <td>Appropriate in length</td>\n",
       "      <td>Easy</td>\n",
       "    </tr>\n",
       "  </tbody>\n",
       "</table>\n",
       "<p>5 rows × 85 columns</p>\n",
       "</div>"
      ],
      "text/plain": [
       "   Respondent                                         MainBranch Hobbyist  \\\n",
       "0           1             I am a student who is learning to code      Yes   \n",
       "1           2             I am a student who is learning to code       No   \n",
       "2           3  I am not primarily a developer, but I write co...      Yes   \n",
       "3           4                     I am a developer by profession       No   \n",
       "4           5                     I am a developer by profession      Yes   \n",
       "\n",
       "                  OpenSourcer  \\\n",
       "0                       Never   \n",
       "1     Less than once per year   \n",
       "2                       Never   \n",
       "3                       Never   \n",
       "4  Once a month or more often   \n",
       "\n",
       "                                          OpenSource  \\\n",
       "0  The quality of OSS and closed source software ...   \n",
       "1  The quality of OSS and closed source software ...   \n",
       "2  The quality of OSS and closed source software ...   \n",
       "3  The quality of OSS and closed source software ...   \n",
       "4  OSS is, on average, of HIGHER quality than pro...   \n",
       "\n",
       "                               Employment                 Country  \\\n",
       "0  Not employed, and not looking for work          United Kingdom   \n",
       "1      Not employed, but looking for work  Bosnia and Herzegovina   \n",
       "2                      Employed full-time                Thailand   \n",
       "3                      Employed full-time           United States   \n",
       "4                      Employed full-time                 Ukraine   \n",
       "\n",
       "          Student                                            EdLevel  \\\n",
       "0              No                          Primary/elementary school   \n",
       "1  Yes, full-time  Secondary school (e.g. American high school, G...   \n",
       "2              No           Bachelor’s degree (BA, BS, B.Eng., etc.)   \n",
       "3              No           Bachelor’s degree (BA, BS, B.Eng., etc.)   \n",
       "4              No           Bachelor’s degree (BA, BS, B.Eng., etc.)   \n",
       "\n",
       "                                      UndergradMajor  ...  \\\n",
       "0                                                NaN  ...   \n",
       "1                                                NaN  ...   \n",
       "2                      Web development or web design  ...   \n",
       "3  Computer science, computer engineering, or sof...  ...   \n",
       "4  Computer science, computer engineering, or sof...  ...   \n",
       "\n",
       "                             WelcomeChange  \\\n",
       "0  Just as welcome now as I felt last year   \n",
       "1  Just as welcome now as I felt last year   \n",
       "2  Just as welcome now as I felt last year   \n",
       "3  Just as welcome now as I felt last year   \n",
       "4  Just as welcome now as I felt last year   \n",
       "\n",
       "                                        SONewContent   Age Gender Trans  \\\n",
       "0  Tech articles written by other developers;Indu...  14.0    Man    No   \n",
       "1  Tech articles written by other developers;Indu...  19.0    Man    No   \n",
       "2  Tech meetups or events in your area;Courses on...  28.0    Man    No   \n",
       "3  Tech articles written by other developers;Indu...  22.0    Man    No   \n",
       "4  Tech meetups or events in your area;Courses on...  30.0    Man    No   \n",
       "\n",
       "                 Sexuality                                 Ethnicity  \\\n",
       "0  Straight / Heterosexual                                       NaN   \n",
       "1  Straight / Heterosexual                                       NaN   \n",
       "2  Straight / Heterosexual                                       NaN   \n",
       "3  Straight / Heterosexual              White or of European descent   \n",
       "4  Straight / Heterosexual  White or of European descent;Multiracial   \n",
       "\n",
       "  Dependents           SurveyLength                  SurveyEase  \n",
       "0         No  Appropriate in length  Neither easy nor difficult  \n",
       "1         No  Appropriate in length  Neither easy nor difficult  \n",
       "2        Yes  Appropriate in length  Neither easy nor difficult  \n",
       "3         No  Appropriate in length                        Easy  \n",
       "4         No  Appropriate in length                        Easy  \n",
       "\n",
       "[5 rows x 85 columns]"
      ]
     },
     "execution_count": 108,
     "metadata": {},
     "output_type": "execute_result"
    }
   ],
   "source": [
    "df.head(5)"
   ]
  },
  {
   "cell_type": "code",
   "execution_count": 109,
   "id": "2a897f31",
   "metadata": {},
   "outputs": [
    {
     "data": {
      "text/plain": [
       "['Respondent',\n",
       " 'MainBranch',\n",
       " 'Hobbyist',\n",
       " 'OpenSourcer',\n",
       " 'OpenSource',\n",
       " 'Employment',\n",
       " 'Country',\n",
       " 'Student',\n",
       " 'EdLevel',\n",
       " 'UndergradMajor',\n",
       " 'EduOther',\n",
       " 'OrgSize',\n",
       " 'DevType',\n",
       " 'YearsCode',\n",
       " 'Age1stCode',\n",
       " 'YearsCodePro',\n",
       " 'CareerSat',\n",
       " 'JobSat',\n",
       " 'MgrIdiot',\n",
       " 'MgrMoney',\n",
       " 'MgrWant',\n",
       " 'JobSeek',\n",
       " 'LastHireDate',\n",
       " 'LastInt',\n",
       " 'FizzBuzz',\n",
       " 'JobFactors',\n",
       " 'ResumeUpdate',\n",
       " 'CurrencySymbol',\n",
       " 'CurrencyDesc',\n",
       " 'CompTotal',\n",
       " 'CompFreq',\n",
       " 'ConvertedComp',\n",
       " 'WorkWeekHrs',\n",
       " 'WorkPlan',\n",
       " 'WorkChallenge',\n",
       " 'WorkRemote',\n",
       " 'WorkLoc',\n",
       " 'ImpSyn',\n",
       " 'CodeRev',\n",
       " 'CodeRevHrs',\n",
       " 'UnitTests',\n",
       " 'PurchaseHow',\n",
       " 'PurchaseWhat',\n",
       " 'LanguageWorkedWith',\n",
       " 'LanguageDesireNextYear',\n",
       " 'DatabaseWorkedWith',\n",
       " 'DatabaseDesireNextYear',\n",
       " 'PlatformWorkedWith',\n",
       " 'PlatformDesireNextYear',\n",
       " 'WebFrameWorkedWith',\n",
       " 'WebFrameDesireNextYear',\n",
       " 'MiscTechWorkedWith',\n",
       " 'MiscTechDesireNextYear',\n",
       " 'DevEnviron',\n",
       " 'OpSys',\n",
       " 'Containers',\n",
       " 'BlockchainOrg',\n",
       " 'BlockchainIs',\n",
       " 'BetterLife',\n",
       " 'ITperson',\n",
       " 'OffOn',\n",
       " 'SocialMedia',\n",
       " 'Extraversion',\n",
       " 'ScreenName',\n",
       " 'SOVisit1st',\n",
       " 'SOVisitFreq',\n",
       " 'SOVisitTo',\n",
       " 'SOFindAnswer',\n",
       " 'SOTimeSaved',\n",
       " 'SOHowMuchTime',\n",
       " 'SOAccount',\n",
       " 'SOPartFreq',\n",
       " 'SOJobs',\n",
       " 'EntTeams',\n",
       " 'SOComm',\n",
       " 'WelcomeChange',\n",
       " 'SONewContent',\n",
       " 'Age',\n",
       " 'Gender',\n",
       " 'Trans',\n",
       " 'Sexuality',\n",
       " 'Ethnicity',\n",
       " 'Dependents',\n",
       " 'SurveyLength',\n",
       " 'SurveyEase']"
      ]
     },
     "execution_count": 109,
     "metadata": {},
     "output_type": "execute_result"
    }
   ],
   "source": [
    "df.columns.to_list()"
   ]
  },
  {
   "cell_type": "code",
   "execution_count": 110,
   "id": "406bd639",
   "metadata": {},
   "outputs": [
    {
     "data": {
      "text/html": [
       "<div>\n",
       "<style scoped>\n",
       "    .dataframe tbody tr th:only-of-type {\n",
       "        vertical-align: middle;\n",
       "    }\n",
       "\n",
       "    .dataframe tbody tr th {\n",
       "        vertical-align: top;\n",
       "    }\n",
       "\n",
       "    .dataframe thead th {\n",
       "        text-align: right;\n",
       "    }\n",
       "</style>\n",
       "<table border=\"1\" class=\"dataframe\">\n",
       "  <thead>\n",
       "    <tr style=\"text-align: right;\">\n",
       "      <th></th>\n",
       "      <th>Respondent</th>\n",
       "      <th>CompTotal</th>\n",
       "      <th>ConvertedComp</th>\n",
       "      <th>WorkWeekHrs</th>\n",
       "      <th>CodeRevHrs</th>\n",
       "      <th>Age</th>\n",
       "    </tr>\n",
       "  </thead>\n",
       "  <tbody>\n",
       "    <tr>\n",
       "      <th>count</th>\n",
       "      <td>88883.000000</td>\n",
       "      <td>5.594500e+04</td>\n",
       "      <td>5.582300e+04</td>\n",
       "      <td>64503.000000</td>\n",
       "      <td>49790.000000</td>\n",
       "      <td>79210.000000</td>\n",
       "    </tr>\n",
       "    <tr>\n",
       "      <th>mean</th>\n",
       "      <td>44442.000000</td>\n",
       "      <td>5.519014e+11</td>\n",
       "      <td>1.271107e+05</td>\n",
       "      <td>42.127197</td>\n",
       "      <td>5.084308</td>\n",
       "      <td>30.336699</td>\n",
       "    </tr>\n",
       "    <tr>\n",
       "      <th>std</th>\n",
       "      <td>25658.456325</td>\n",
       "      <td>7.331926e+13</td>\n",
       "      <td>2.841523e+05</td>\n",
       "      <td>37.287610</td>\n",
       "      <td>5.513931</td>\n",
       "      <td>9.178390</td>\n",
       "    </tr>\n",
       "    <tr>\n",
       "      <th>min</th>\n",
       "      <td>1.000000</td>\n",
       "      <td>0.000000e+00</td>\n",
       "      <td>0.000000e+00</td>\n",
       "      <td>1.000000</td>\n",
       "      <td>0.000000</td>\n",
       "      <td>1.000000</td>\n",
       "    </tr>\n",
       "    <tr>\n",
       "      <th>25%</th>\n",
       "      <td>22221.500000</td>\n",
       "      <td>2.000000e+04</td>\n",
       "      <td>2.577750e+04</td>\n",
       "      <td>40.000000</td>\n",
       "      <td>2.000000</td>\n",
       "      <td>24.000000</td>\n",
       "    </tr>\n",
       "    <tr>\n",
       "      <th>50%</th>\n",
       "      <td>44442.000000</td>\n",
       "      <td>6.200000e+04</td>\n",
       "      <td>5.728700e+04</td>\n",
       "      <td>40.000000</td>\n",
       "      <td>4.000000</td>\n",
       "      <td>29.000000</td>\n",
       "    </tr>\n",
       "    <tr>\n",
       "      <th>75%</th>\n",
       "      <td>66662.500000</td>\n",
       "      <td>1.200000e+05</td>\n",
       "      <td>1.000000e+05</td>\n",
       "      <td>44.750000</td>\n",
       "      <td>6.000000</td>\n",
       "      <td>35.000000</td>\n",
       "    </tr>\n",
       "    <tr>\n",
       "      <th>max</th>\n",
       "      <td>88883.000000</td>\n",
       "      <td>1.000000e+16</td>\n",
       "      <td>2.000000e+06</td>\n",
       "      <td>4850.000000</td>\n",
       "      <td>99.000000</td>\n",
       "      <td>99.000000</td>\n",
       "    </tr>\n",
       "  </tbody>\n",
       "</table>\n",
       "</div>"
      ],
      "text/plain": [
       "         Respondent     CompTotal  ConvertedComp   WorkWeekHrs    CodeRevHrs  \\\n",
       "count  88883.000000  5.594500e+04   5.582300e+04  64503.000000  49790.000000   \n",
       "mean   44442.000000  5.519014e+11   1.271107e+05     42.127197      5.084308   \n",
       "std    25658.456325  7.331926e+13   2.841523e+05     37.287610      5.513931   \n",
       "min        1.000000  0.000000e+00   0.000000e+00      1.000000      0.000000   \n",
       "25%    22221.500000  2.000000e+04   2.577750e+04     40.000000      2.000000   \n",
       "50%    44442.000000  6.200000e+04   5.728700e+04     40.000000      4.000000   \n",
       "75%    66662.500000  1.200000e+05   1.000000e+05     44.750000      6.000000   \n",
       "max    88883.000000  1.000000e+16   2.000000e+06   4850.000000     99.000000   \n",
       "\n",
       "                Age  \n",
       "count  79210.000000  \n",
       "mean      30.336699  \n",
       "std        9.178390  \n",
       "min        1.000000  \n",
       "25%       24.000000  \n",
       "50%       29.000000  \n",
       "75%       35.000000  \n",
       "max       99.000000  "
      ]
     },
     "execution_count": 110,
     "metadata": {},
     "output_type": "execute_result"
    }
   ],
   "source": [
    "df.describe()"
   ]
  },
  {
   "cell_type": "code",
   "execution_count": 111,
   "id": "fe90ae31",
   "metadata": {},
   "outputs": [],
   "source": [
    "schema=pd.read_csv(\"survey_results_schema.csv\")"
   ]
  },
  {
   "cell_type": "code",
   "execution_count": 112,
   "id": "888a61be",
   "metadata": {},
   "outputs": [
    {
     "data": {
      "text/plain": [
       "Index(['Column', 'QuestionText'], dtype='object')"
      ]
     },
     "execution_count": 112,
     "metadata": {},
     "output_type": "execute_result"
    }
   ],
   "source": [
    "schema.columns\n"
   ]
  },
  {
   "cell_type": "code",
   "execution_count": 113,
   "id": "43e04ab3",
   "metadata": {},
   "outputs": [],
   "source": [
    "df.dropna(inplace=True\n",
    "        )"
   ]
  },
  {
   "cell_type": "code",
   "execution_count": 114,
   "id": "e79d820e",
   "metadata": {},
   "outputs": [],
   "source": [
    "df.drop_duplicates(inplace=True)"
   ]
  },
  {
   "cell_type": "code",
   "execution_count": 115,
   "id": "acf29f2e",
   "metadata": {},
   "outputs": [
    {
     "data": {
      "text/plain": [
       "Respondent      0\n",
       "MainBranch      0\n",
       "Hobbyist        0\n",
       "OpenSourcer     0\n",
       "OpenSource      0\n",
       "               ..\n",
       "Sexuality       0\n",
       "Ethnicity       0\n",
       "Dependents      0\n",
       "SurveyLength    0\n",
       "SurveyEase      0\n",
       "Length: 85, dtype: int64"
      ]
     },
     "execution_count": 115,
     "metadata": {},
     "output_type": "execute_result"
    }
   ],
   "source": [
    "df.isnull().sum()"
   ]
  },
  {
   "cell_type": "code",
   "execution_count": 116,
   "id": "8ae25507",
   "metadata": {},
   "outputs": [],
   "source": [
    "df[\"Gender\"]=df[\"Gender\"].str.lower()"
   ]
  },
  {
   "cell_type": "code",
   "execution_count": 117,
   "id": "14e0e21c",
   "metadata": {},
   "outputs": [
    {
     "data": {
      "text/plain": [
       "19       man\n",
       "38       man\n",
       "43       man\n",
       "82       man\n",
       "103      man\n",
       "        ... \n",
       "88161    man\n",
       "88178    man\n",
       "88236    man\n",
       "88301    man\n",
       "88325    man\n",
       "Name: Gender, Length: 3475, dtype: object"
      ]
     },
     "execution_count": 117,
     "metadata": {},
     "output_type": "execute_result"
    }
   ],
   "source": [
    "df[\"Gender\"]"
   ]
  },
  {
   "cell_type": "code",
   "execution_count": 118,
   "id": "71625995",
   "metadata": {},
   "outputs": [
    {
     "data": {
      "text/plain": [
       "19     17\n",
       "38      6\n",
       "43     12\n",
       "82     16\n",
       "103    21\n",
       "Name: Age1stCode, dtype: object"
      ]
     },
     "execution_count": 118,
     "metadata": {},
     "output_type": "execute_result"
    }
   ],
   "source": [
    "df[\"Age1stCode\"].head(5)"
   ]
  },
  {
   "cell_type": "code",
   "execution_count": 119,
   "id": "ad1951e1",
   "metadata": {},
   "outputs": [
    {
     "data": {
      "text/plain": [
       "str"
      ]
     },
     "execution_count": 119,
     "metadata": {},
     "output_type": "execute_result"
    }
   ],
   "source": [
    "type(df[\"Age1stCode\"].iloc[0])"
   ]
  },
  {
   "cell_type": "code",
   "execution_count": 120,
   "id": "67a21da6",
   "metadata": {},
   "outputs": [],
   "source": [
    "d=df[df[\"Age1stCode\"]==\"Younger than 5 years\"]\n",
    "dp=d.index.to_list()"
   ]
  },
  {
   "cell_type": "code",
   "execution_count": 121,
   "id": "b141f18e",
   "metadata": {},
   "outputs": [],
   "source": [
    "df.drop(index=dp,inplace=True)"
   ]
  },
  {
   "cell_type": "code",
   "execution_count": 122,
   "id": "5cdca59e",
   "metadata": {},
   "outputs": [
    {
     "name": "stdout",
     "output_type": "stream",
     "text": [
      "Average of developers when they wrote their 1st line of code  14.891392258809937\n"
     ]
    }
   ],
   "source": [
    "#1. Find the average age of developers when they wrote their first line of code.\n",
    "df[\"Age1stCode\"]=pd.to_numeric(df[\"Age1stCode\"])\n",
    "average_age=df[\"Age1stCode\"].mean()\n",
    "print(f\"Average of developers when they wrote their 1st line of code  {average_age}\")"
   ]
  },
  {
   "cell_type": "code",
   "execution_count": 123,
   "id": "3d61682e",
   "metadata": {},
   "outputs": [
    {
     "name": "stdout",
     "output_type": "stream",
     "text": [
      "                                       Country  percentage_python\n",
      "0                                     Cambodia              100.0\n",
      "1                                        Ghana              100.0\n",
      "2                           Hong Kong (S.A.R.)              100.0\n",
      "3                                         Cuba              100.0\n",
      "4                                         Iraq              100.0\n",
      "..                                         ...                ...\n",
      "104                                    Senegal                0.0\n",
      "105                                South Korea                0.0\n",
      "106                                    Tunisia                0.0\n",
      "107  The former Yugoslav Republic of Macedonia                0.0\n",
      "108                        Trinidad and Tobago                0.0\n",
      "\n",
      "[109 rows x 2 columns]\n"
     ]
    }
   ],
   "source": [
    "# . 2.Deduce the percentage of developers who knew python in each country.\n",
    "\n",
    "df2=df[[\"Country\",\"LanguageWorkedWith\"]].dropna()\n",
    "df2[\"KnowsPy\"]=df2[\"LanguageWorkedWith\"].str.contains(\"Python\")\n",
    "\n",
    "grouped=df2.groupby(\"Country\")[\"KnowsPy\"].agg(\n",
    "    total_devlopers=\"count\",\n",
    "    python_dev=\"sum\"\n",
    ")\n",
    "\n",
    "grouped[\"percentage_python\"]=(grouped[\"python_dev\"]/grouped[\"total_devlopers\"])*100\n",
    "\n",
    "grouped=grouped.sort_values(by=\"percentage_python\",ascending=False)\n",
    "grouped=grouped.reset_index()\n",
    "print(grouped[[\"Country\",\"percentage_python\"]])"
   ]
  },
  {
   "cell_type": "code",
   "execution_count": null,
   "id": "ca71fc61",
   "metadata": {},
   "outputs": [],
   "source": []
  },
  {
   "cell_type": "code",
   "execution_count": 124,
   "id": "8d5af104",
   "metadata": {},
   "outputs": [
    {
     "name": "stdout",
     "output_type": "stream",
     "text": [
      "            Country                                 LanguageWorkedWith  \\\n",
      "19        Lithuania  Bash/Shell/PowerShell;C#;HTML/CSS;Java;JavaScr...   \n",
      "38    United States                       C#;JavaScript;SQL;TypeScript   \n",
      "43          Germany  Bash/Shell/PowerShell;C#;HTML/CSS;Java;JavaScr...   \n",
      "82            India                                HTML/CSS;JavaScript   \n",
      "103           India                             C#;HTML/CSS;TypeScript   \n",
      "127  United Kingdom                      Bash/Shell/PowerShell;Go;Ruby   \n",
      "230   United States  Bash/Shell/PowerShell;C#;Dart;HTML/CSS;JavaScript   \n",
      "239          Canada   Bash/Shell/PowerShell;C#;HTML/CSS;JavaScript;SQL   \n",
      "284         Ireland  Dart;HTML/CSS;JavaScript;Python;TypeScript;Oth...   \n",
      "309        Pakistan   Assembly;C;C++;C#;HTML/CSS;Java;Python;Scala;SQL   \n",
      "432   United States   Bash/Shell/PowerShell;C#;HTML/CSS;JavaScript;SQL   \n",
      "445          Serbia                  Bash/Shell/PowerShell;Java;Python   \n",
      "458         Germany  Bash/Shell/PowerShell;C#;HTML/CSS;JavaScript;P...   \n",
      "460   United States  Bash/Shell/PowerShell;C#;HTML/CSS;JavaScript;P...   \n",
      "537   United States        Bash/Shell/PowerShell;JavaScript;Python;SQL   \n",
      "540          Canada  Bash/Shell/PowerShell;C#;HTML/CSS;Java;JavaScr...   \n",
      "611         Germany  Bash/Shell/PowerShell;C;C++;C#;HTML/CSS;Java;P...   \n",
      "612            Iran   C#;HTML/CSS;JavaScript;Python;SQL;TypeScript;VBA   \n",
      "668   United States  Bash/Shell/PowerShell;HTML/CSS;Java;JavaScript...   \n",
      "683    South Africa                                             C#;SQL   \n",
      "\n",
      "     KnowsPy  \n",
      "19      True  \n",
      "38     False  \n",
      "43     False  \n",
      "82     False  \n",
      "103    False  \n",
      "127    False  \n",
      "230    False  \n",
      "239    False  \n",
      "284     True  \n",
      "309     True  \n",
      "432    False  \n",
      "445     True  \n",
      "458     True  \n",
      "460     True  \n",
      "537     True  \n",
      "540     True  \n",
      "611     True  \n",
      "612     True  \n",
      "668     True  \n",
      "683    False  \n"
     ]
    }
   ],
   "source": [
    "df3=grouped[[\"Country\",\"percentage_python\"]]\n",
    "print(df2.head(20))"
   ]
  },
  {
   "cell_type": "code",
   "execution_count": 125,
   "id": "025c955a",
   "metadata": {},
   "outputs": [
    {
     "data": {
      "text/plain": [
       "Index(['Respondent', 'MainBranch', 'Hobbyist', 'OpenSourcer', 'OpenSource',\n",
       "       'Employment', 'Country', 'Student', 'EdLevel', 'UndergradMajor',\n",
       "       'EduOther', 'OrgSize', 'DevType', 'YearsCode', 'Age1stCode',\n",
       "       'YearsCodePro', 'CareerSat', 'JobSat', 'MgrIdiot', 'MgrMoney',\n",
       "       'MgrWant', 'JobSeek', 'LastHireDate', 'LastInt', 'FizzBuzz',\n",
       "       'JobFactors', 'ResumeUpdate', 'CurrencySymbol', 'CurrencyDesc',\n",
       "       'CompTotal', 'CompFreq', 'ConvertedComp', 'WorkWeekHrs', 'WorkPlan',\n",
       "       'WorkChallenge', 'WorkRemote', 'WorkLoc', 'ImpSyn', 'CodeRev',\n",
       "       'CodeRevHrs', 'UnitTests', 'PurchaseHow', 'PurchaseWhat',\n",
       "       'LanguageWorkedWith', 'LanguageDesireNextYear', 'DatabaseWorkedWith',\n",
       "       'DatabaseDesireNextYear', 'PlatformWorkedWith',\n",
       "       'PlatformDesireNextYear', 'WebFrameWorkedWith',\n",
       "       'WebFrameDesireNextYear', 'MiscTechWorkedWith',\n",
       "       'MiscTechDesireNextYear', 'DevEnviron', 'OpSys', 'Containers',\n",
       "       'BlockchainOrg', 'BlockchainIs', 'BetterLife', 'ITperson', 'OffOn',\n",
       "       'SocialMedia', 'Extraversion', 'ScreenName', 'SOVisit1st',\n",
       "       'SOVisitFreq', 'SOVisitTo', 'SOFindAnswer', 'SOTimeSaved',\n",
       "       'SOHowMuchTime', 'SOAccount', 'SOPartFreq', 'SOJobs', 'EntTeams',\n",
       "       'SOComm', 'WelcomeChange', 'SONewContent', 'Age', 'Gender', 'Trans',\n",
       "       'Sexuality', 'Ethnicity', 'Dependents', 'SurveyLength', 'SurveyEase'],\n",
       "      dtype='object')"
      ]
     },
     "execution_count": 125,
     "metadata": {},
     "output_type": "execute_result"
    }
   ],
   "source": [
    "df.columns"
   ]
  },
  {
   "cell_type": "code",
   "execution_count": 126,
   "id": "02ce86eb",
   "metadata": {},
   "outputs": [],
   "source": [
    "#  4. Based on this survey, what will be the most desired programming language for the year\n",
    "#  2020?\n",
    "all_languages=[]\n",
    "\n",
    "for entry in df[\"LanguageDesireNextYear\"].dropna():\n",
    "    languages=entry.split(\";\")\n",
    "    for lang in languages:\n",
    "        all_languages.append(lang.strip())\n"
   ]
  },
  {
   "cell_type": "code",
   "execution_count": 127,
   "id": "ad6f7236",
   "metadata": {},
   "outputs": [
    {
     "name": "stdout",
     "output_type": "stream",
     "text": [
      "('JavaScript', 2435)\n",
      "Most desired language for 2020 is: JavaScript\n",
      "Number of developers who want it: 2435\n"
     ]
    }
   ],
   "source": [
    "from collections import Counter\n",
    "\n",
    "lang_counts=Counter(all_languages).most_common(1)[0]\n",
    "\n",
    "print(lang_counts)\n",
    "print(\"Most desired language for 2020 is:\", lang_counts[0])\n",
    "print(\"Number of developers who want it:\", lang_counts[1])"
   ]
  },
  {
   "cell_type": "code",
   "execution_count": 128,
   "id": "ef28115b",
   "metadata": {},
   "outputs": [
    {
     "data": {
      "text/plain": [
       "array(['Lithuania', 'United States', 'Germany', 'India', 'United Kingdom',\n",
       "       'Canada', 'Ireland', 'Pakistan', 'Serbia', 'Iran', 'South Africa',\n",
       "       'Netherlands', 'Malaysia', 'Dominican Republic', 'Australia',\n",
       "       'Italy', 'Brazil', 'Austria', 'France', 'Colombia', 'Guatemala',\n",
       "       'Singapore', 'Russian Federation', 'Republic of Moldova',\n",
       "       'Romania', 'Portugal', 'Israel', 'Chile', 'Nigeria', 'Sweden',\n",
       "       'Hungary', 'Turkey', 'Bulgaria', 'Slovenia', 'Spain',\n",
       "       'Venezuela, Bolivarian Republic of...', 'Honduras', 'Finland',\n",
       "       'Thailand', 'United Arab Emirates', 'Ukraine', 'Switzerland',\n",
       "       'Mexico', 'Poland', 'Argentina', 'Croatia', 'China', 'South Korea',\n",
       "       'Norway', 'Taiwan', 'Denmark', 'Egypt',\n",
       "       'Other Country (Not Listed Above)', 'Czech Republic', 'Bangladesh',\n",
       "       'Philippines', 'Greece', 'Costa Rica', 'Kenya', 'Belgium',\n",
       "       'Albania', 'Ecuador', 'Morocco', 'Estonia', 'Bolivia', 'Peru',\n",
       "       'New Zealand', 'Sri Lanka', 'Georgia', 'Slovakia', 'Uruguay',\n",
       "       'Viet Nam', 'Iraq', 'Cuba', 'Belarus', 'Nepal', 'Lebanon',\n",
       "       'Indonesia', 'Japan', 'Armenia', 'Uganda', 'Senegal', 'Cyprus',\n",
       "       'Panama', 'Iceland', 'Bosnia and Herzegovina',\n",
       "       'Trinidad and Tobago', 'Ethiopia', 'Malta',\n",
       "       'The former Yugoslav Republic of Macedonia', 'Paraguay',\n",
       "       'Cambodia', 'Jamaica', 'Republic of Korea', 'Jordan',\n",
       "       'El Salvador', \"Côte d'Ivoire\", 'Ghana', 'Saudi Arabia',\n",
       "       'Swaziland', 'Nicaragua', 'Algeria', 'Latvia',\n",
       "       'Hong Kong (S.A.R.)', 'Kazakhstan', 'Tunisia', 'Maldives',\n",
       "       'Mauritius', 'Luxembourg'], dtype=object)"
      ]
     },
     "execution_count": 128,
     "metadata": {},
     "output_type": "execute_result"
    }
   ],
   "source": [
    "df[\"Country\"].unique()"
   ]
  },
  {
   "cell_type": "code",
   "execution_count": 129,
   "id": "a90b10a0",
   "metadata": {},
   "outputs": [
    {
     "data": {
      "text/plain": [
       "Index(['Respondent', 'MainBranch', 'Hobbyist', 'OpenSourcer', 'OpenSource',\n",
       "       'Employment', 'Country', 'Student', 'EdLevel', 'UndergradMajor',\n",
       "       'EduOther', 'OrgSize', 'DevType', 'YearsCode', 'Age1stCode',\n",
       "       'YearsCodePro', 'CareerSat', 'JobSat', 'MgrIdiot', 'MgrMoney',\n",
       "       'MgrWant', 'JobSeek', 'LastHireDate', 'LastInt', 'FizzBuzz',\n",
       "       'JobFactors', 'ResumeUpdate', 'CurrencySymbol', 'CurrencyDesc',\n",
       "       'CompTotal', 'CompFreq', 'ConvertedComp', 'WorkWeekHrs', 'WorkPlan',\n",
       "       'WorkChallenge', 'WorkRemote', 'WorkLoc', 'ImpSyn', 'CodeRev',\n",
       "       'CodeRevHrs', 'UnitTests', 'PurchaseHow', 'PurchaseWhat',\n",
       "       'LanguageWorkedWith', 'LanguageDesireNextYear', 'DatabaseWorkedWith',\n",
       "       'DatabaseDesireNextYear', 'PlatformWorkedWith',\n",
       "       'PlatformDesireNextYear', 'WebFrameWorkedWith',\n",
       "       'WebFrameDesireNextYear', 'MiscTechWorkedWith',\n",
       "       'MiscTechDesireNextYear', 'DevEnviron', 'OpSys', 'Containers',\n",
       "       'BlockchainOrg', 'BlockchainIs', 'BetterLife', 'ITperson', 'OffOn',\n",
       "       'SocialMedia', 'Extraversion', 'ScreenName', 'SOVisit1st',\n",
       "       'SOVisitFreq', 'SOVisitTo', 'SOFindAnswer', 'SOTimeSaved',\n",
       "       'SOHowMuchTime', 'SOAccount', 'SOPartFreq', 'SOJobs', 'EntTeams',\n",
       "       'SOComm', 'WelcomeChange', 'SONewContent', 'Age', 'Gender', 'Trans',\n",
       "       'Sexuality', 'Ethnicity', 'Dependents', 'SurveyLength', 'SurveyEase'],\n",
       "      dtype='object')"
      ]
     },
     "execution_count": 129,
     "metadata": {},
     "output_type": "execute_result"
    }
   ],
   "source": [
    "df.columns\n"
   ]
  },
  {
   "cell_type": "code",
   "execution_count": 130,
   "id": "f32de2e2",
   "metadata": {},
   "outputs": [],
   "source": [
    "country_to_continent = {\n",
    "    \"United States\": \"North America\",\n",
    "    \"India\": \"Asia\",\n",
    "    \"Germany\": \"Europe\",\n",
    "    \"Brazil\": \"South America\",\n",
    "    \"Canada\": \"North America\",\n",
    "    \"United Kingdom\": \"Europe\",\n",
    "    \"France\": \"Europe\",\n",
    "    \"Australia\": \"Oceania\",\n",
    "    \"China\": \"Asia\",\n",
    "    \"Russia\": \"Europe\",\n",
    "    \"Japan\": \"Asia\",\n",
    "    \"South Africa\": \"Africa\",\n",
    "    \"Mexico\": \"North America\",\n",
    "    \"Netherlands\": \"Europe\",\n",
    "    \"Spain\": \"Europe\",\n",
    "    \"Italy\": \"Europe\",\n",
    "    \"Sweden\": \"Europe\",\n",
    "    \"Poland\": \"Europe\",\n",
    "    \"Argentina\": \"South America\",\n",
    "    \"Indonesia\": \"Asia\",\n",
    "    \"Unknown\": \"Unknown\"\n",
    "}\n",
    "\n",
    "# Apply the mapping\n",
    "df[\"Continent\"] = df[\"Country\"].map(country_to_continent).fillna(\"Other\")"
   ]
  },
  {
   "cell_type": "code",
   "execution_count": 131,
   "id": "f811246f",
   "metadata": {},
   "outputs": [],
   "source": [
    "df[\"ConvertedComp\"]=pd.to_numeric(df[\"ConvertedComp\"])"
   ]
  },
  {
   "cell_type": "code",
   "execution_count": 132,
   "id": "95b89485",
   "metadata": {},
   "outputs": [
    {
     "name": "stdout",
     "output_type": "stream",
     "text": [
      "       Continent  ConvertedComp\n",
      "0         Africa   81698.280000\n",
      "1           Asia   43443.053381\n",
      "2         Europe  116015.068720\n",
      "3  North America  218702.883665\n",
      "4        Oceania  216138.787234\n",
      "5          Other   70361.534911\n",
      "6  South America   27839.135593\n"
     ]
    }
   ],
   "source": [
    "#3\n",
    "salary_report=df.groupby(\"Continent\")[\"ConvertedComp\"].mean().reset_index()\n",
    "print(salary_report)\n"
   ]
  },
  {
   "cell_type": "code",
   "execution_count": 133,
   "id": "ff379bd7",
   "metadata": {},
   "outputs": [
    {
     "data": {
      "text/plain": [
       "Index(['Respondent', 'MainBranch', 'Hobbyist', 'OpenSourcer', 'OpenSource',\n",
       "       'Employment', 'Country', 'Student', 'EdLevel', 'UndergradMajor',\n",
       "       'EduOther', 'OrgSize', 'DevType', 'YearsCode', 'Age1stCode',\n",
       "       'YearsCodePro', 'CareerSat', 'JobSat', 'MgrIdiot', 'MgrMoney',\n",
       "       'MgrWant', 'JobSeek', 'LastHireDate', 'LastInt', 'FizzBuzz',\n",
       "       'JobFactors', 'ResumeUpdate', 'CurrencySymbol', 'CurrencyDesc',\n",
       "       'CompTotal', 'CompFreq', 'ConvertedComp', 'WorkWeekHrs', 'WorkPlan',\n",
       "       'WorkChallenge', 'WorkRemote', 'WorkLoc', 'ImpSyn', 'CodeRev',\n",
       "       'CodeRevHrs', 'UnitTests', 'PurchaseHow', 'PurchaseWhat',\n",
       "       'LanguageWorkedWith', 'LanguageDesireNextYear', 'DatabaseWorkedWith',\n",
       "       'DatabaseDesireNextYear', 'PlatformWorkedWith',\n",
       "       'PlatformDesireNextYear', 'WebFrameWorkedWith',\n",
       "       'WebFrameDesireNextYear', 'MiscTechWorkedWith',\n",
       "       'MiscTechDesireNextYear', 'DevEnviron', 'OpSys', 'Containers',\n",
       "       'BlockchainOrg', 'BlockchainIs', 'BetterLife', 'ITperson', 'OffOn',\n",
       "       'SocialMedia', 'Extraversion', 'ScreenName', 'SOVisit1st',\n",
       "       'SOVisitFreq', 'SOVisitTo', 'SOFindAnswer', 'SOTimeSaved',\n",
       "       'SOHowMuchTime', 'SOAccount', 'SOPartFreq', 'SOJobs', 'EntTeams',\n",
       "       'SOComm', 'WelcomeChange', 'SONewContent', 'Age', 'Gender', 'Trans',\n",
       "       'Sexuality', 'Ethnicity', 'Dependents', 'SurveyLength', 'SurveyEase',\n",
       "       'Continent'],\n",
       "      dtype='object')"
      ]
     },
     "execution_count": 133,
     "metadata": {},
     "output_type": "execute_result"
    }
   ],
   "source": [
    "df.columns"
   ]
  },
  {
   "cell_type": "code",
   "execution_count": 134,
   "id": "a3e57cf7",
   "metadata": {},
   "outputs": [],
   "source": [
    "def Simplify_gender(gender):\n",
    "    if pd.isna(gender):\n",
    "        return \"OTHERS\"\n",
    "    gender=gender.strip().lower()\n",
    "    if gender==\"man\":\n",
    "        return \"MAN\"\n",
    "    elif gender == \"woman\":\n",
    "        return \"WOMAN\"\n",
    "    else:\n",
    "        return \"OTHERS\""
   ]
  },
  {
   "cell_type": "code",
   "execution_count": 137,
   "id": "04382957",
   "metadata": {},
   "outputs": [],
   "source": [
    "df[\"CleanedGender\"]=df[\"Gender\"].apply(Simplify_gender)"
   ]
  },
  {
   "cell_type": "code",
   "execution_count": 139,
   "id": "63896df3",
   "metadata": {},
   "outputs": [
    {
     "name": "stdout",
     "output_type": "stream",
     "text": [
      "        Continent CleanedGender  Hobbyist_Count\n",
      "0          Africa           MAN              20\n",
      "1          Africa         WOMAN               1\n",
      "2            Asia           MAN             241\n",
      "3            Asia        OTHERS               2\n",
      "4            Asia         WOMAN               3\n",
      "5          Europe           MAN             716\n",
      "6          Europe        OTHERS               1\n",
      "7          Europe         WOMAN              18\n",
      "8   North America           MAN            1036\n",
      "9   North America        OTHERS              11\n",
      "10  North America         WOMAN              37\n",
      "11        Oceania           MAN              75\n",
      "12        Oceania        OTHERS               1\n",
      "13        Oceania         WOMAN               1\n",
      "14          Other           MAN             690\n",
      "15          Other         WOMAN              20\n",
      "16  South America           MAN              93\n",
      "17  South America         WOMAN               2\n"
     ]
    }
   ],
   "source": [
    "hobby=df[df[\"Hobbyist\"]==\"Yes\"]\n",
    "code_as_hobby=hobby.groupby([\"Continent\",\"CleanedGender\"]).size().reset_index(name=\"Hobbyist_Count\")\n",
    "print(code_as_hobby)"
   ]
  },
  {
   "cell_type": "code",
   "execution_count": 143,
   "id": "e1251985",
   "metadata": {},
   "outputs": [
    {
     "data": {
      "text/plain": [
       "array(['Very satisfied', 'Slightly satisfied',\n",
       "       'Neither satisfied nor dissatisfied', 'Very dissatisfied',\n",
       "       'Slightly dissatisfied'], dtype=object)"
      ]
     },
     "execution_count": 143,
     "metadata": {},
     "output_type": "execute_result"
    }
   ],
   "source": [
    "# #6 6. Generate the report for job and career satisfaction of developers based on their\n",
    "#  gender and continent.\n",
    "#  Note: Please follow the same instructions for the gender category as described in\n",
    "#  question-5\n",
    "df[\"CareerSat\"].unique()\n"
   ]
  },
  {
   "cell_type": "code",
   "execution_count": null,
   "id": "7b385dca",
   "metadata": {},
   "outputs": [
    {
     "name": "stdout",
     "output_type": "stream",
     "text": [
      "   CleanedGender      Continent                 JobSat           CareerSat\n",
      "0            MAN         Africa     Slightly satisfied      Very satisfied\n",
      "1            MAN           Asia     Slightly satisfied  Slightly satisfied\n",
      "2            MAN         Europe     Slightly satisfied      Very satisfied\n",
      "3            MAN  North America         Very satisfied      Very satisfied\n",
      "4            MAN        Oceania         Very satisfied      Very satisfied\n",
      "5            MAN          Other     Slightly satisfied      Very satisfied\n",
      "6            MAN  South America     Slightly satisfied  Slightly satisfied\n",
      "7         OTHERS           Asia     Slightly satisfied  Slightly satisfied\n",
      "8         OTHERS         Europe      Very dissatisfied   Very dissatisfied\n",
      "9         OTHERS  North America     Slightly satisfied      Very satisfied\n",
      "10        OTHERS        Oceania  Slightly dissatisfied      Very satisfied\n",
      "11         WOMAN         Africa      Very dissatisfied      Very satisfied\n",
      "12         WOMAN           Asia  Slightly dissatisfied  Slightly satisfied\n",
      "13         WOMAN         Europe     Slightly satisfied      Very satisfied\n",
      "14         WOMAN  North America         Very satisfied      Very satisfied\n",
      "15         WOMAN        Oceania     Slightly satisfied  Slightly satisfied\n",
      "16         WOMAN          Other         Very satisfied      Very satisfied\n",
      "17         WOMAN  South America         Very satisfied  Slightly satisfied\n"
     ]
    }
   ],
   "source": [
    "df_sat=df.dropna(subset=[\"JobSat\",\"CareerSat\"])\n",
    "satisfaction_report=df_sat.groupby([\"CleanedGender\",\"Continent\"])[[\"JobSat\",\"CareerSat\"]].agg(most_common).reset_index()\n",
    "print(satisfaction_report)"
   ]
  },
  {
   "cell_type": "code",
   "execution_count": null,
   "id": "8ef8cf08",
   "metadata": {},
   "outputs": [],
   "source": [
    "def most_common(x):\n",
    "    return x.value_counts().idxmax()"
   ]
  }
 ],
 "metadata": {
  "kernelspec": {
   "display_name": "Python 3",
   "language": "python",
   "name": "python3"
  },
  "language_info": {
   "codemirror_mode": {
    "name": "ipython",
    "version": 3
   },
   "file_extension": ".py",
   "mimetype": "text/x-python",
   "name": "python",
   "nbconvert_exporter": "python",
   "pygments_lexer": "ipython3",
   "version": "3.9.0"
  }
 },
 "nbformat": 4,
 "nbformat_minor": 5
}
