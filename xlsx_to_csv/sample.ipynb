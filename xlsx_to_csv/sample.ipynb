{
 "cells": [
  {
   "cell_type": "code",
   "execution_count": 1,
   "id": "92174bf7",
   "metadata": {},
   "outputs": [
    {
     "name": "stdout",
     "output_type": "stream",
     "text": [
      "        Brand       Device          Model Country of Origin Date of Release  \\\n",
      "0       Apple       iPhone     13 Pro Max     United States      2021-09-24   \n",
      "1     Samsung       Galaxy      S21 Ultra       South Korea      2021-01-29   \n",
      "2      Google        Pixel          6 Pro     United States      2021-10-19   \n",
      "3        Sony  PlayStation              5             Japan      2020-11-12   \n",
      "4   Microsoft      Surface       Laptop 4     United States      2021-04-15   \n",
      "5        Dell          XPS             13     United States      2021-01-28   \n",
      "6          HP      Spectre           x360     United States      2021-04-16   \n",
      "7      Lenovo     ThinkPad      X1 Carbon             China      2021-02-15   \n",
      "8        Asus          ROG   Zephyrus G14            Taiwan      2021-03-15   \n",
      "9        Acer     Predator     Helios 300            Taiwan      2021-02-17   \n",
      "10      Apple      MacBook    Pro 14-inch     United States      2021-10-26   \n",
      "11    Samsung      Odyssey             G9       South Korea      2020-07-22   \n",
      "12     Google    Pixelbook             Go     United States      2021-06-17   \n",
      "13       Sony       Xperia          1 III             Japan      2021-08-19   \n",
      "14  Microsoft         Xbox       Series X     United States      2020-11-10   \n",
      "15       Dell    Alienware         m15 R5     United States      2021-04-20   \n",
      "16         HP     Pavilion           x360     United States      2021-05-14   \n",
      "17     Lenovo      IdeaPad          5 Pro             China      2021-03-10   \n",
      "18       Asus      ZenBook             14            Taiwan      2021-01-15   \n",
      "19       Acer        Swift              3            Taiwan      2021-02-10   \n",
      "20      Apple         iPad  Pro 12.9-inch     United States      2021-05-21   \n",
      "21    Samsung       Galaxy        Tab S7+       South Korea      2020-08-21   \n",
      "22     Google         Nest        Hub Max     United States      2021-03-30   \n",
      "23       Sony           WH        1000XM4          Malaysia      2020-08-06   \n",
      "24  Microsoft      Surface          Pro 8     United States      2021-10-05   \n",
      "25       Dell   UltraSharp         U2720Q             China      2020-12-25   \n",
      "26         HP        Elite      Dragonfly     United States      2021-06-28   \n",
      "27     Lenovo       Legion             7i             China      2021-04-05   \n",
      "28       Asus          TUF     Gaming A15            Taiwan      2021-03-20   \n",
      "29       Acer       Aspire              5            Taiwan      2021-01-30   \n",
      "\n",
      "    Price (USD)  \n",
      "0          1099  \n",
      "1          1199  \n",
      "2           899  \n",
      "3           499  \n",
      "4           999  \n",
      "5           999  \n",
      "6          1349  \n",
      "7          1429  \n",
      "8          1499  \n",
      "9          1299  \n",
      "10         1999  \n",
      "11         1699  \n",
      "12          649  \n",
      "13         1299  \n",
      "14          499  \n",
      "15         1999  \n",
      "16          749  \n",
      "17          999  \n",
      "18          799  \n",
      "19          699  \n",
      "20         1099  \n",
      "21          849  \n",
      "22          229  \n",
      "23          349  \n",
      "24          899  \n",
      "25          499  \n",
      "26         1799  \n",
      "27         1499  \n",
      "28         1199  \n",
      "29          599  \n",
      "Converted successfully csv\n"
     ]
    }
   ],
   "source": [
    "import pandas as pd\n",
    "sheets=pd.DataFrame(pd.read_excel(\"Sample_sheet.xlsx\"))\n",
    "\n",
    "\n",
    "sheets.to_csv(\"Sample_sheet\",index=None)\n",
    "\n",
    "print(sheets)\n",
    "\n",
    "print(f\"Converted successfully csv\")"
   ]
  }
 ],
 "metadata": {
  "kernelspec": {
   "display_name": "Python 3",
   "language": "python",
   "name": "python3"
  },
  "language_info": {
   "codemirror_mode": {
    "name": "ipython",
    "version": 3
   },
   "file_extension": ".py",
   "mimetype": "text/x-python",
   "name": "python",
   "nbconvert_exporter": "python",
   "pygments_lexer": "ipython3",
   "version": "3.9.0"
  }
 },
 "nbformat": 4,
 "nbformat_minor": 5
}
